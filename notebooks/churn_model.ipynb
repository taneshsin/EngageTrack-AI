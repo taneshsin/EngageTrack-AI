{
 "cells": [
  {
   "cell_type": "markdown",
   "metadata": {},
   "source": ["# Churn Prediction Model\n",
              "This notebook trains an XGBoost-based churn model on the `churn.csv` dataset, dropping UI-only columns (`customerID`, `variant`) and outputting artifacts for deployment."]
  },
  {
   "cell_type": "code",
   "metadata": {},
   "source": [
    "# Step 1: Imports\n",
    "import pandas as pd\n",
    "import numpy as np\n",
    "import xgboost as xgb\n",
    "import matplotlib.pyplot as plt\n",
    "import seaborn as sns\n",
    "import joblib\n",
    "\n",
    "from sklearn.model_selection import train_test_split\n",
    "from sklearn.preprocessing import LabelEncoder, StandardScaler\n",
    "from sklearn.metrics import classification_report, roc_auc_score, confusion_matrix\n"
   ]
  },
  {
   "cell_type": "code",
   "metadata": {},
   "source": [
    "# Step 2: Load & Clean Data\n",
    "df = pd.read_csv(\"../data/churn.csv\")  # adjust path as needed\n",
    "# Drop UI-only columns\n",
    "df.drop(columns=[\"customerID\", \"variant\"], errors=\"ignore\", inplace=True)\n",
    "# Remove blank TotalCharges and convert\n",
    "mask = df[\"TotalCharges\"].astype(str).str.strip() != \"\"\n",
    "df = df.loc[mask].copy()\n",
    "df[\"TotalCharges\"] = pd.to_numeric(df[\"TotalCharges\"], errors=\"coerce\")\n",
    "df.dropna(subset=[\"TotalCharges\"], inplace=True)\n",
    "# Log-transform\n",
    "df[\"TotalCharges\"] = np.log1p(df[\"TotalCharges\"])\n"
   ]
  },
  {
   "cell_type": "code",
   "metadata": {},
   "source": [
    "# Step 3: Encode Target & Categoricals\n",
    "# Encode Churn as 0/1\n",
    "df['Churn'] = (df['Churn'] == 'Yes').astype(int)\n",
    "\n",
    "categorical_cols = df.select_dtypes(include=['object']).columns.tolist()\n",
    "label_encoders = {}\n",
    "for col in categorical_cols:\n",
    "    le = LabelEncoder()\n",
    "    df[col] = le.fit_transform(df[col])\n",
    "    label_encoders[col] = le\n"
   ]
  },
  {
   "cell_type": "code",
   "metadata": {},
   "source": [
    "# Step 4: Split features & target\n",
    "X = df.drop(columns=['Churn'])\n",
    "y = df['Churn']\n"
   ]
  },
  {
   "cell_type": "code",
   "metadata": {},
   "source": [
    "# Step 5: Train-test split\n",
    "X_train, X_test, y_train, y_test = train_test_split(\n",
    "    X, y, test_size=0.2, random_state=42, stratify=y\n",
    ")\n"
   ]
  },
  {
   "cell_type": "code",
   "metadata": {},
   "source": [
    "# Step 6: Feature scaling\n",
    "scaler = StandardScaler()\n",
    "X_train_scaled = scaler.fit_transform(X_train)\n",
    "X_test_scaled = scaler.transform(X_test)\n"
   ]
  },
  {
   "cell_type": "code",
   "metadata": {},
   "source": [
    "# Step 7: Train XGBoost with imbalance handling\n",
    "ratio = (y_train == 0).sum() / (y_train == 1).sum()\n",
    "model = xgb.XGBClassifier(\n",
    "    use_label_encoder=False,\n",
    "    eval_metric='logloss',\n",
    "    scale_pos_weight=ratio,\n",
    "    learning_rate=0.1,\n",
    "    max_depth=4,\n",
    "    subsample=0.8,\n",
    "    colsample_bytree=0.8,\n",
    "    reg_lambda=1.0,\n",
    "    reg_alpha=0.3,\n",
    "    n_estimators=100,\n",
    "    random_state=42\n",
    ")\n",
    "model.fit(X_train_scaled, y_train)\n"
   ]
  },
  {
   "cell_type": "code",
   "metadata": {},
   "source": [
    "# Step 8: Evaluate Model\n",
    "y_pred = model.predict(X_test_scaled)\n",
    "y_proba = model.predict_proba(X_test_scaled)[:,1]\n",
    "\n",
    "print(\"AUC:\", roc_auc_score(y_test, y_proba))\n",
    "print(\"\\nClassification Report:\\n\", classification_report(y_test, y_pred))\n"
   ]
  },
  {
   "cell_type": "code",
   "metadata": {},
   "source": [
    "# Step 9: Confusion Matrix\n",
    "cm = confusion_matrix(y_test, y_pred)\n",
    "plt.figure(figsize=(5,4))\n",
    "sns.heatmap(cm, annot=True, fmt='d', cmap='Blues')\n",
    "plt.title('Confusion Matrix')\n",
    "plt.xlabel('Predicted')\n",
    "plt.ylabel('Actual')\n",
    "plt.show()\n"
   ]
  },
  {
   "cell_type": "code",
   "metadata": {},
   "source": [
    "# Step 10: Save Artifacts\n",
    "joblib.dump(model, 'xgb_model.pkl')\n",
    "joblib.dump(scaler, 'scaler.pkl')\n",
    "joblib.dump(label_encoders, 'label_encoders.pkl')\n",
    "print('Artifacts saved: xgb_model.pkl, scaler.pkl, label_encoders.pkl')\n"
   ]
  }
 ],
 "metadata": {
  "kernelspec": {
   "display_name": "Python 3",
   "language": "python",
   "name": "python3"
  },
  "language_info": {
   "name": "python",
   "version": "3.10"
  }
 },
 "nbformat": 4,
 "nbformat_minor": 5
}
